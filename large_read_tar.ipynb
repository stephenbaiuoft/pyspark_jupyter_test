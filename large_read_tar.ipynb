{
 "cells": [
  {
   "cell_type": "code",
   "execution_count": 13,
   "metadata": {},
   "outputs": [],
   "source": [
    "import sys\n",
    "sys.path.append('../../')\n",
    "import os\n",
    "\n",
    "import findspark\n",
    "findspark.init()\n",
    "\n",
    "#from pyspark.sql import SQLContext\n",
    "from pyspark.sql import SparkSession\n",
    "\n",
    "from sparknlp.annotator import *\n",
    "from pyspark.ml import Pipeline\n",
    "from sparknlp.base import DocumentAssembler, Finisher\n",
    "from pyspark.sql import Row\n"
   ]
  },
  {
   "cell_type": "code",
   "execution_count": 14,
   "metadata": {},
   "outputs": [],
   "source": [
    "# os.getcwd()\n",
    "# '/home/ubuntu'"
   ]
  },
  {
   "cell_type": "code",
   "execution_count": 15,
   "metadata": {},
   "outputs": [],
   "source": [
    "tar_data = 's3a://twitter-data-dump/test.tar'\n",
    "data_folder = 's3a://twitter-data-dump/smallportion/'\n",
    "trump_file = 's3a://twitter-data-dump/celebrities/trump.json'"
   ]
  },
  {
   "cell_type": "code",
   "execution_count": 16,
   "metadata": {},
   "outputs": [],
   "source": [
    "# instantiate a spark context object\n",
    "appname= \"large_read_tar\"\n",
    "master=\"local\"\n",
    "\n",
    "# Create Spark Session\n",
    "spark = SparkSession.builder.appName(appname).getOrCreate()"
   ]
  },
  {
   "cell_type": "code",
   "execution_count": 17,
   "metadata": {},
   "outputs": [],
   "source": [
    "# raw_rdd = sc.textFile(tar_data)\n",
    "df = spark.read.json(data_folder)\n",
    "df_trump = spark.read.json(trump_file)"
   ]
  },
  {
   "cell_type": "code",
   "execution_count": 18,
   "metadata": {},
   "outputs": [],
   "source": [
    "# Session for declaring Spark-NLP parameters --> at least in config file\n",
    "LEMMA_SRC = '/home/ubuntu/spark_test/resources/nlp/lemma-corpus/AntBNC_lemmas_ver_001.txt'\n",
    "# Will change and play around with other later\n",
    "SENTIMENT_SRC = '/home/ubuntu/spark_test/resources/nlp/sentiment-corpus/default-sentiment-dict.txt'\n",
    "sentence_bound_set = [\"\\n\",\"\\?\",\"\\*\",\"\\!\", '\\.']"
   ]
  },
  {
   "cell_type": "code",
   "execution_count": 19,
   "metadata": {},
   "outputs": [],
   "source": [
    "def process_task(data, *args):\n",
    "    pipeline = Pipeline(stages=args)\n",
    "    model = pipeline.fit(data)\n",
    "    result = model.transform(data)\n",
    "    #result.printSchema()\n",
    "    return result"
   ]
  },
  {
   "cell_type": "code",
   "execution_count": 20,
   "metadata": {},
   "outputs": [],
   "source": [
    "# pipeline for text cleaning\n",
    "document_assembler = DocumentAssembler() \\\n",
    "    .setInputCol(\"text\")\\\n",
    "    .setOutputCol(\"document\")\n",
    "\n",
    "sentence_detector = SentenceDetectorModel() \\\n",
    "    .setInputCols([\"document\"]) \\\n",
    "    .setCustomBounds(sentence_bound_set)\\\n",
    "    .setOutputCol(\"sentence\")\n",
    "    \n",
    "tokenizer = RegexTokenizer() \\\n",
    "    .setInputCols([\"sentence\"]) \\\n",
    "    .setOutputCol(\"token\")   \n",
    "    \n",
    "# normalizer --> all lower cases    \n",
    "normalizer = Normalizer() \\\n",
    "    .setInputCols([\"token\"]) \\\n",
    "    .setOutputCol(\"normalized_token\")    \n",
    "\n",
    "# lemmatization based on Ant Corpus    \n",
    "lemmatizer = Lemmatizer()\\\n",
    "    .setInputCols([\"normalized_token\"])\\\n",
    "    .setOutputCol(\"lemma\") \\\n",
    "    .setDictionary(LEMMA_SRC)\n",
    "    \n",
    "# sentiment_dector\n",
    "sentiment_detector = SentimentDetectorModel() \\\n",
    "    .setInputCols([\"lemma\", \"sentence\"]) \\\n",
    "    .setOutputCol(\"sentiment_score\") \\\n",
    "    .setDictPath(\"../../../src/test/resources/sentiment-corpus/default-sentiment-dict.txt\")    "
   ]
  },
  {
   "cell_type": "code",
   "execution_count": 21,
   "metadata": {},
   "outputs": [],
   "source": [
    "# Region for Setting 2 Finisher --> for 2 pipelines    \n",
    "finisher_sentence = Finisher() \\\n",
    "    .setInputCols([\"sentence\"]) \\\n",
    "    .setOutputCols([\"sentence_output\"])\\\n",
    "    .setCleanAnnotations(False)"
   ]
  },
  {
   "cell_type": "code",
   "execution_count": null,
   "metadata": {},
   "outputs": [],
   "source": []
  },
  {
   "cell_type": "code",
   "execution_count": 22,
   "metadata": {},
   "outputs": [
    {
     "name": "stdout",
     "output_type": "stream",
     "text": [
      "root\n",
      " |-- created_at: string (nullable = true)\n",
      " |-- favorite_count: long (nullable = true)\n",
      " |-- id_str: string (nullable = true)\n",
      " |-- is_retweet: boolean (nullable = true)\n",
      " |-- retweet_count: long (nullable = true)\n",
      " |-- source: string (nullable = true)\n",
      " |-- text: string (nullable = true)\n",
      " |-- document: array (nullable = true)\n",
      " |    |-- element: struct (containsNull = true)\n",
      " |    |    |-- annotatorType: string (nullable = true)\n",
      " |    |    |-- begin: integer (nullable = false)\n",
      " |    |    |-- end: integer (nullable = false)\n",
      " |    |    |-- result: string (nullable = true)\n",
      " |    |    |-- metadata: map (nullable = true)\n",
      " |    |    |    |-- key: string\n",
      " |    |    |    |-- value: string (valueContainsNull = true)\n",
      " |-- sentence: array (nullable = true)\n",
      " |    |-- element: struct (containsNull = true)\n",
      " |    |    |-- annotatorType: string (nullable = true)\n",
      " |    |    |-- begin: integer (nullable = false)\n",
      " |    |    |-- end: integer (nullable = false)\n",
      " |    |    |-- result: string (nullable = true)\n",
      " |    |    |-- metadata: map (nullable = true)\n",
      " |    |    |    |-- key: string\n",
      " |    |    |    |-- value: string (valueContainsNull = true)\n",
      " |-- sentence_output: string (nullable = true)\n",
      "\n"
     ]
    }
   ],
   "source": [
    "result = process_task(df_trump, document_assembler,sentence_detector,finisher_sentence)"
   ]
  },
  {
   "cell_type": "code",
   "execution_count": 24,
   "metadata": {},
   "outputs": [
    {
     "name": "stdout",
     "output_type": "stream",
     "text": [
      "root\n",
      " |-- created_at: string (nullable = true)\n",
      " |-- favorite_count: long (nullable = true)\n",
      " |-- id_str: string (nullable = true)\n",
      " |-- is_retweet: boolean (nullable = true)\n",
      " |-- retweet_count: long (nullable = true)\n",
      " |-- source: string (nullable = true)\n",
      " |-- text: string (nullable = true)\n",
      "\n",
      "root\n",
      " |-- created_at: string (nullable = true)\n",
      " |-- favorite_count: long (nullable = true)\n",
      " |-- id_str: string (nullable = true)\n",
      " |-- is_retweet: boolean (nullable = true)\n",
      " |-- retweet_count: long (nullable = true)\n",
      " |-- source: string (nullable = true)\n",
      " |-- text: string (nullable = true)\n",
      " |-- document: array (nullable = true)\n",
      " |    |-- element: struct (containsNull = true)\n",
      " |    |    |-- annotatorType: string (nullable = true)\n",
      " |    |    |-- begin: integer (nullable = false)\n",
      " |    |    |-- end: integer (nullable = false)\n",
      " |    |    |-- result: string (nullable = true)\n",
      " |    |    |-- metadata: map (nullable = true)\n",
      " |    |    |    |-- key: string\n",
      " |    |    |    |-- value: string (valueContainsNull = true)\n",
      " |-- sentence: array (nullable = true)\n",
      " |    |-- element: struct (containsNull = true)\n",
      " |    |    |-- annotatorType: string (nullable = true)\n",
      " |    |    |-- begin: integer (nullable = false)\n",
      " |    |    |-- end: integer (nullable = false)\n",
      " |    |    |-- result: string (nullable = true)\n",
      " |    |    |-- metadata: map (nullable = true)\n",
      " |    |    |    |-- key: string\n",
      " |    |    |    |-- value: string (valueContainsNull = true)\n",
      " |-- sentence_output: string (nullable = true)\n",
      "\n"
     ]
    }
   ],
   "source": [
    "df_trump.printSchema()\n",
    "result.printSchema()"
   ]
  },
  {
   "cell_type": "code",
   "execution_count": 25,
   "metadata": {},
   "outputs": [
    {
     "name": "stdout",
     "output_type": "stream",
     "text": [
      "+--------------------+--------------+------------------+----------+-------------+------------------+--------------------+\n",
      "|          created_at|favorite_count|            id_str|is_retweet|retweet_count|            source|                text|\n",
      "+--------------------+--------------+------------------+----------+-------------+------------------+--------------------+\n",
      "|Tue Jan 23 14:16:...|         43524|955806333667807232|     false|        10053|Twitter for iPhone|Thank you to Gene...|\n",
      "|Tue Jan 23 13:34:...|         56437|955795912374267907|     false|        13019|Twitter for iPhone|Nobody knows for ...|\n",
      "|Tue Jan 23 11:55:...|         78243|955771016319590400|     false|        23409|Twitter for iPhone|In one of the big...|\n",
      "|Tue Jan 23 11:51:...|          3377|955769850022055936|     false|         1115|Twitter for iPhone|In one of the big...|\n",
      "|Tue Jan 23 11:31:...|         75650|955764970590961665|     false|        17246|Twitter for iPhone|Even Crazy Jim Ac...|\n",
      "|Tue Jan 23 04:30:...|        103887|955658992793149440|     false|        23224|Twitter for iPhone|Big win for Repub...|\n",
      "|Mon Jan 22 15:13:...|         83723|955458357200130049|     false|        20279|Twitter for iPhone|End the Democrats...|\n",
      "|Mon Jan 22 13:15:...|        100652|955428815777533952|     false|        21340|Twitter for iPhone|Democrats have sh...|\n",
      "|Mon Jan 22 13:07:...|        121569|955426609326100480|     false|        31687|Twitter for iPhone|The Democrats are...|\n",
      "|Mon Jan 22 01:21:...|        119305|955249077645643776|     false|        22758|Twitter for iPhone|Thank you to Brad...|\n",
      "|Sun Jan 21 12:35:...|        173855|955056249925750784|     false|        47531|Twitter for iPhone|Great to see how ...|\n",
      "|Sun Jan 21 12:20:...|             0|955052436187701248|      true|        44766|Twitter for iPhone|RT @realDonaldTru...|\n",
      "|Sun Jan 21 02:34:...|             0|954905101717655552|      true|        13657|Twitter for iPhone|RT @FoxNews: .@Er...|\n",
      "|Sun Jan 21 02:33:...|             0|954904669112995840|      true|        13935|Twitter for iPhone|RT @FoxNews: .@Ke...|\n",
      "|Sun Jan 21 02:31:...|             0|954904246494916609|      true|        12876|Twitter for iPhone|RT @FoxNews: .@da...|\n",
      "|Sun Jan 21 02:31:...|             0|954904160016785413|      true|         6999|Twitter for iPhone|RT @FoxNews: .@Er...|\n",
      "|Sun Jan 21 02:18:...|         44091|954901073587834882|     false|         6175|Twitter for iPhone|Eric Trump on @Ju...|\n",
      "|Sun Jan 21 00:47:...|        150088|954878124214415360|     false|        31348|Twitter for iPhone|The Trump Adminis...|\n",
      "|Sun Jan 21 00:40:...|             0|954876269300248576|      true|        42742|Twitter for iPhone|RT @realDonaldTru...|\n",
      "|Sat Jan 20 22:31:...|        127198|954843844402647040|     false|        28686|Twitter for iPhone|Unprecedented suc...|\n",
      "+--------------------+--------------+------------------+----------+-------------+------------------+--------------------+\n",
      "only showing top 20 rows\n",
      "\n",
      "+--------------------+--------------+------------------+----------+-------------+------------------+--------------------+--------------------+--------------------+--------------------+\n",
      "|          created_at|favorite_count|            id_str|is_retweet|retweet_count|            source|                text|            document|            sentence|     sentence_output|\n",
      "+--------------------+--------------+------------------+----------+-------------+------------------+--------------------+--------------------+--------------------+--------------------+\n",
      "|Tue Jan 23 14:16:...|         43524|955806333667807232|     false|        10053|Twitter for iPhone|Thank you to Gene...|[[document,0,257,...|[[document,0,133,...|Thank you to Gene...|\n",
      "|Tue Jan 23 13:34:...|         56437|955795912374267907|     false|        13019|Twitter for iPhone|Nobody knows for ...|[[document,0,276,...|[[document,0,47,N...|Nobody knows for ...|\n",
      "|Tue Jan 23 11:55:...|         78243|955771016319590400|     false|        23409|Twitter for iPhone|In one of the big...|[[document,0,166,...|[[document,0,160,...|In one of the big...|\n",
      "|Tue Jan 23 11:51:...|          3377|955769850022055936|     false|         1115|Twitter for iPhone|In one of the big...|[[document,0,164,...|[[document,0,158,...|In one of the big...|\n",
      "|Tue Jan 23 11:31:...|         75650|955764970590961665|     false|        17246|Twitter for iPhone|Even Crazy Jim Ac...|[[document,0,189,...|[[document,0,111,...|Even Crazy Jim Ac...|\n",
      "|Tue Jan 23 04:30:...|        103887|955658992793149440|     false|        23224|Twitter for iPhone|Big win for Repub...|[[document,0,253,...|[[document,0,52,B...|Big win for Repub...|\n",
      "|Mon Jan 22 15:13:...|         83723|955458357200130049|     false|        20279|Twitter for iPhone|End the Democrats...|[[document,0,53,E...|[[document,0,28,E...|End the Democrats...|\n",
      "|Mon Jan 22 13:15:...|        100652|955428815777533952|     false|        21340|Twitter for iPhone|Democrats have sh...|[[document,0,123,...|[[document,0,78,D...|Democrats have sh...|\n",
      "|Mon Jan 22 13:07:...|        121569|955426609326100480|     false|        31687|Twitter for iPhone|The Democrats are...|[[document,0,126,...|[[document,0,115,...|The Democrats are...|\n",
      "|Mon Jan 22 01:21:...|        119305|955249077645643776|     false|        22758|Twitter for iPhone|Thank you to Brad...|[[document,0,169,...|[[document,0,154,...|Thank you to Brad...|\n",
      "|Sun Jan 21 12:35:...|        173855|955056249925750784|     false|        47531|Twitter for iPhone|Great to see how ...|[[document,0,278,...|[[document,0,87,G...|Great to see how ...|\n",
      "|Sun Jan 21 12:20:...|             0|955052436187701248|      true|        44766|Twitter for iPhone|RT @realDonaldTru...|[[document,0,139,...|[[document,0,118,...|RT @realDonaldTru...|\n",
      "|Sun Jan 21 02:34:...|             0|954905101717655552|      true|        13657|Twitter for iPhone|RT @FoxNews: .@Er...|[[document,0,139,...|[[document,0,11,R...|RT @FoxNews:@@Eri...|\n",
      "|Sun Jan 21 02:33:...|             0|954904669112995840|      true|        13935|Twitter for iPhone|RT @FoxNews: .@Ke...|[[document,0,139,...|[[document,0,11,R...|RT @FoxNews:@@Kel...|\n",
      "|Sun Jan 21 02:31:...|             0|954904246494916609|      true|        12876|Twitter for iPhone|RT @FoxNews: .@da...|[[document,0,139,...|[[document,0,11,R...|RT @FoxNews:@@dav...|\n",
      "|Sun Jan 21 02:31:...|             0|954904160016785413|      true|         6999|Twitter for iPhone|RT @FoxNews: .@Er...|[[document,0,139,...|[[document,0,11,R...|RT @FoxNews:@@Eri...|\n",
      "|Sun Jan 21 02:18:...|         44091|954901073587834882|     false|         6175|Twitter for iPhone|Eric Trump on @Ju...|[[document,0,43,E...|[[document,0,42,E...|Eric Trump on @Ju...|\n",
      "|Sun Jan 21 00:47:...|        150088|954878124214415360|     false|        31348|Twitter for iPhone|The Trump Adminis...|[[document,0,242,...|[[document,0,195,...|The Trump Adminis...|\n",
      "|Sun Jan 21 00:40:...|             0|954876269300248576|      true|        42742|Twitter for iPhone|RT @realDonaldTru...|[[document,0,139,...|[[document,0,139,...|RT @realDonaldTru...|\n",
      "|Sat Jan 20 22:31:...|        127198|954843844402647040|     false|        28686|Twitter for iPhone|Unprecedented suc...|[[document,0,291,...|[[document,0,73,U...|Unprecedented suc...|\n",
      "+--------------------+--------------+------------------+----------+-------------+------------------+--------------------+--------------------+--------------------+--------------------+\n",
      "only showing top 20 rows\n",
      "\n"
     ]
    }
   ],
   "source": [
    "df_trump.show()\n",
    "result.show()"
   ]
  },
  {
   "cell_type": "code",
   "execution_count": null,
   "metadata": {},
   "outputs": [],
   "source": []
  }
 ],
 "metadata": {
  "kernelspec": {
   "display_name": "Python 2",
   "language": "python",
   "name": "python2"
  },
  "language_info": {
   "codemirror_mode": {
    "name": "ipython",
    "version": 2
   },
   "file_extension": ".py",
   "mimetype": "text/x-python",
   "name": "python",
   "nbconvert_exporter": "python",
   "pygments_lexer": "ipython2",
   "version": "2.7.12"
  }
 },
 "nbformat": 4,
 "nbformat_minor": 2
}
