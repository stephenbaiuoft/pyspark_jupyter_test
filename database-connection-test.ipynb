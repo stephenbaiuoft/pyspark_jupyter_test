{
 "cells": [
  {
   "cell_type": "code",
   "execution_count": 1,
   "metadata": {},
   "outputs": [],
   "source": [
    "# this tests connection to Cassandra and creates table schmes\n",
    "# note you need 2nd region for creating the intermediate table\n"
   ]
  },
  {
   "cell_type": "code",
   "execution_count": 2,
   "metadata": {},
   "outputs": [],
   "source": [
    "# dumping data format, assuming cassandra has been connected by \n",
    "# when launch pyspark or spark-submit\n",
    "\n",
    "# df_valid.write.format(\"org.apache.spark.sql.cassandra\").\\\n",
    "#     mode('append').options(table='t2',keyspace='twitter').save()"
   ]
  },
  {
   "cell_type": "code",
   "execution_count": 6,
   "metadata": {},
   "outputs": [],
   "source": [
    "from config import *\n",
    "from cassandra.cluster import Cluster"
   ]
  },
  {
   "cell_type": "code",
   "execution_count": 13,
   "metadata": {},
   "outputs": [],
   "source": [
    "# select 10 rows and test if cassandra is connected\n",
    "def test_connection():\n",
    "    sql_cmd = \"select id, count_id from t2 limit 10;\"\n",
    "    # test connection\n",
    "    cluster = Cluster([MASTER_URL,\n",
    "                       WORKER0_URL])\n",
    "    session = cluster.connect('twitter')\n",
    "    rows = session.execute(sql_cmd)\n",
    "    for i in rows:\n",
    "        print i \n",
    "        \n",
    "    return session"
   ]
  },
  {
   "cell_type": "code",
   "execution_count": 14,
   "metadata": {},
   "outputs": [
    {
     "name": "stdout",
     "output_type": "stream",
     "text": [
      "Row(id=362824706560229376, count_id=1)\n",
      "Row(id=362827466441625601, count_id=1)\n",
      "Row(id=362821355307147264, count_id=1)\n",
      "Row(id=362817991500513281, count_id=1)\n",
      "Row(id=362825457353240576, count_id=1)\n",
      "Row(id=362829618094419969, count_id=1)\n",
      "Row(id=362817379140505600, count_id=1)\n",
      "Row(id=362822030598483968, count_id=1)\n",
      "Row(id=362820151541903361, count_id=1)\n",
      "Row(id=362817005822283776, count_id=1)\n"
     ]
    }
   ],
   "source": [
    "session = test_connection()"
   ]
  },
  {
   "cell_type": "code",
   "execution_count": 12,
   "metadata": {},
   "outputs": [
    {
     "data": {
      "text/plain": [
       "NoneType"
      ]
     },
     "execution_count": 12,
     "metadata": {},
     "output_type": "execute_result"
    }
   ],
   "source": []
  },
  {
   "cell_type": "code",
   "execution_count": null,
   "metadata": {},
   "outputs": [],
   "source": []
  }
 ],
 "metadata": {
  "kernelspec": {
   "display_name": "Python 2",
   "language": "python",
   "name": "python2"
  },
  "language_info": {
   "codemirror_mode": {
    "name": "ipython",
    "version": 2
   },
   "file_extension": ".py",
   "mimetype": "text/x-python",
   "name": "python",
   "nbconvert_exporter": "python",
   "pygments_lexer": "ipython2",
   "version": "2.7.12"
  }
 },
 "nbformat": 4,
 "nbformat_minor": 2
}
