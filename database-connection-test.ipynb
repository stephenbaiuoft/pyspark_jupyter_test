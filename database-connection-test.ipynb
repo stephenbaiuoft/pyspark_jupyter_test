{
 "cells": [
  {
   "cell_type": "code",
   "execution_count": null,
   "metadata": {},
   "outputs": [],
   "source": [
    "# this tests connection to Cassandra and creates table schmes\n",
    "# note you need 2nd region for creating the intermediate table\n"
   ]
  },
  {
   "cell_type": "code",
   "execution_count": null,
   "metadata": {},
   "outputs": [],
   "source": [
    "# dumping data format, assuming cassandra has been connected by \n",
    "# when launch pyspark or spark-submit\n",
    "\n",
    "# df_valid.write.format(\"org.apache.spark.sql.cassandra\").\\\n",
    "#     mode('append').options(table='t2',keyspace='twitter').save()"
   ]
  },
  {
   "cell_type": "code",
   "execution_count": null,
   "metadata": {},
   "outputs": [],
   "source": []
  }
 ],
 "metadata": {
  "kernelspec": {
   "display_name": "Python 2",
   "language": "python",
   "name": "python2"
  },
  "language_info": {
   "codemirror_mode": {
    "name": "ipython",
    "version": 2
   },
   "file_extension": ".py",
   "mimetype": "text/x-python",
   "name": "python",
   "nbconvert_exporter": "python",
   "pygments_lexer": "ipython2",
   "version": "2.7.12"
  }
 },
 "nbformat": 4,
 "nbformat_minor": 2
}
