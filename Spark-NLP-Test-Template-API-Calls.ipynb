{
 "cells": [
  {
   "cell_type": "code",
   "execution_count": 11,
   "metadata": {},
   "outputs": [],
   "source": [
    "#Imports\n",
    "import sys\n",
    "sys.path.append('../../')\n",
    "\n",
    "from pyspark.sql import SparkSession\n",
    "from pyspark.ml import Pipeline\n",
    "\n",
    "from sparknlp.annotator import *\n",
    "from sparknlp.common import RegexRule\n",
    "from sparknlp.base import DocumentAssembler, Finisher"
   ]
  },
  {
   "cell_type": "code",
   "execution_count": 12,
   "metadata": {},
   "outputs": [],
   "source": [
    "# instantiate a spark context object\n",
    "appname= \"large_read_tar\"\n",
    "master=\"local\"\n",
    "\n",
    "# Create Spark Session\n",
    "spark = SparkSession.builder.appName(appname).getOrCreate()"
   ]
  },
  {
   "cell_type": "code",
   "execution_count": 13,
   "metadata": {},
   "outputs": [],
   "source": [
    "tar_data = 's3a://twitter-data-dump/test.tar'\n",
    "data_folder = 's3a://twitter-data-dump/smallportion/'\n",
    "trump_file = 's3a://twitter-data-dump/celebrities/trump.json'\n",
    "\n",
    "\n",
    "# df = spark.read.json(data_folder)\n",
    "df_trump = spark.read.json(trump_file)\n",
    "\n",
    "resource_path ='/home/ubuntu/Desktop/spark-nlp/src/test/resources/'\n",
    "#type(data) --> data frame\n",
    "\n",
    "# to access each data and do modification\n",
    "# rez = df_trump.take(10)\n",
    "# rez_0 = rez[9]\n",
    "# for item in rez_0:\n",
    "#     print item"
   ]
  },
  {
   "cell_type": "code",
   "execution_count": 14,
   "metadata": {},
   "outputs": [],
   "source": [
    "#spark-nlp pipeline --> each can be included in the data frame\n",
    "document_assembler = DocumentAssembler() \\\n",
    "    .setInputCol(\"text\")\\\n",
    "    .setOutputCol(\"document\")\n",
    "\n",
    "finisher_text = Finisher() \\\n",
    "    .setInputCols([\"document\"]) \\\n",
    "    .setOutputCols([\"document_output\"])    \n",
    "\n",
    "sentence_detector = SentenceDetectorModel() \\\n",
    "    .setInputCols([\"document\"]) \\\n",
    "    .setOutputCol(\"sentence\")\n",
    "    \n",
    "finisher_sentence = Finisher() \\\n",
    "    .setInputCols([\"sentence\"]) \\\n",
    "    .setOutputCols([\"sentence_output\"])\n",
    "\n",
    "tokenizer = RegexTokenizer() \\\n",
    "    .setInputCols([\"sentence\"]) \\\n",
    "    .setOutputCol(\"token\")\n",
    "    \n",
    "finisher_tokenizer = Finisher() \\\n",
    "    .setInputCols([\"token\"]) \\\n",
    "    .setOutputCols([\"token_output\"])\n",
    "\n",
    "lemmatizer = Lemmatizer() \\\n",
    "    .setInputCols([\"token\"]) \\\n",
    "    .setOutputCol(\"lemma\") \\\n",
    "    .setDictionary(resource_path+\"lemma-corpus/AntBNC_lemmas_ver_001.txt\")\n",
    "    \n",
    "\n",
    "        \n",
    "# sentiment analysis requires 2 arguments: lemman and sentence to determine \n",
    "# the context of that particular sentence\n",
    "sentiment_detector = SentimentDetectorModel() \\\n",
    "    .setInputCols([\"lemma\", \"sentence\"]) \\\n",
    "    .setOutputCol(\"sentiment_score\") \\\n",
    "    .setDictPath(resource_path+\"sentiment-corpus/default-sentiment-dict.txt\")\n",
    "    "
   ]
  },
  {
   "cell_type": "code",
   "execution_count": 52,
   "metadata": {},
   "outputs": [],
   "source": [
    "normalizer = Normalizer() \\\n",
    "    .setInputCols([\"token\"]) \\\n",
    "    .setOutputCol(\"normalized_token\") \n",
    "    \n",
    "lemmatizer = Lemmatizer() \\\n",
    "    .setInputCols([\"normalized_token\"]) \\\n",
    "    .setOutputCol(\"lemma\") \\\n",
    "    .setDictionary(resource_path+\"lemma-corpus/AntBNC_lemmas_ver_001.txt\")    \n",
    "    \n",
    "# Set CleanAnnotation False to have columns of intermediate data column!    \n",
    "finisher_lemmatizer = Finisher() \\\n",
    "    .setInputCols([\"lemma\"]) \\\n",
    "    .setOutputCols([\"lemma_output\"])\\\n",
    "    .setCleanAnnotations(False)\\\n",
    "    .setOutputAsArray(True)\\\n",
    "    .setIncludeKeys(True) \n",
    "    \n",
    "finisher_lemmatizer_noary = Finisher() \\\n",
    "    .setInputCols([\"lemma\"]) \\\n",
    "    .setOutputCols([\"lemma_output\"])\\\n",
    "    .setCleanAnnotations(False)\\\n",
    "    .setOutputAsArray(False)\\\n",
    "    .setIncludeKeys(False)     \n",
    "    "
   ]
  },
  {
   "cell_type": "code",
   "execution_count": 53,
   "metadata": {},
   "outputs": [
    {
     "name": "stdout",
     "output_type": "stream",
     "text": [
      "root\n",
      " |-- created_at: string (nullable = true)\n",
      " |-- favorite_count: long (nullable = true)\n",
      " |-- id_str: string (nullable = true)\n",
      " |-- is_retweet: boolean (nullable = true)\n",
      " |-- retweet_count: long (nullable = true)\n",
      " |-- source: string (nullable = true)\n",
      " |-- text: string (nullable = true)\n",
      " |-- document: array (nullable = true)\n",
      " |    |-- element: struct (containsNull = true)\n",
      " |    |    |-- annotatorType: string (nullable = true)\n",
      " |    |    |-- begin: integer (nullable = false)\n",
      " |    |    |-- end: integer (nullable = false)\n",
      " |    |    |-- result: string (nullable = true)\n",
      " |    |    |-- metadata: map (nullable = true)\n",
      " |    |    |    |-- key: string\n",
      " |    |    |    |-- value: string (valueContainsNull = true)\n",
      " |-- sentence: array (nullable = true)\n",
      " |    |-- element: struct (containsNull = true)\n",
      " |    |    |-- annotatorType: string (nullable = true)\n",
      " |    |    |-- begin: integer (nullable = false)\n",
      " |    |    |-- end: integer (nullable = false)\n",
      " |    |    |-- result: string (nullable = true)\n",
      " |    |    |-- metadata: map (nullable = true)\n",
      " |    |    |    |-- key: string\n",
      " |    |    |    |-- value: string (valueContainsNull = true)\n",
      " |-- token: array (nullable = true)\n",
      " |    |-- element: struct (containsNull = true)\n",
      " |    |    |-- annotatorType: string (nullable = true)\n",
      " |    |    |-- begin: integer (nullable = false)\n",
      " |    |    |-- end: integer (nullable = false)\n",
      " |    |    |-- result: string (nullable = true)\n",
      " |    |    |-- metadata: map (nullable = true)\n",
      " |    |    |    |-- key: string\n",
      " |    |    |    |-- value: string (valueContainsNull = true)\n",
      " |-- normalized_token: array (nullable = true)\n",
      " |    |-- element: struct (containsNull = true)\n",
      " |    |    |-- annotatorType: string (nullable = true)\n",
      " |    |    |-- begin: integer (nullable = false)\n",
      " |    |    |-- end: integer (nullable = false)\n",
      " |    |    |-- result: string (nullable = true)\n",
      " |    |    |-- metadata: map (nullable = true)\n",
      " |    |    |    |-- key: string\n",
      " |    |    |    |-- value: string (valueContainsNull = true)\n",
      " |-- lemma: array (nullable = true)\n",
      " |    |-- element: struct (containsNull = true)\n",
      " |    |    |-- annotatorType: string (nullable = true)\n",
      " |    |    |-- begin: integer (nullable = false)\n",
      " |    |    |-- end: integer (nullable = false)\n",
      " |    |    |-- result: string (nullable = true)\n",
      " |    |    |-- metadata: map (nullable = true)\n",
      " |    |    |    |-- key: string\n",
      " |    |    |    |-- value: string (valueContainsNull = true)\n",
      " |-- lemma_output: array (nullable = true)\n",
      " |    |-- element: string (containsNull = true)\n",
      "\n"
     ]
    }
   ],
   "source": [
    "# Building 2 pipelines\n",
    "pipeline_lemmatizer = Pipeline(stages=[document_assembler, sentence_detector,tokenizer,\n",
    "                            normalizer, lemmatizer,\n",
    "                            finisher_lemmatizer])\n",
    "\n",
    "model = pipeline_lemmatizer.fit(df_trump)\n",
    "result = model.transform(df_trump)\n",
    "result.printSchema()\n",
    "#result.show()"
   ]
  },
  {
   "cell_type": "code",
   "execution_count": 54,
   "metadata": {},
   "outputs": [
    {
     "name": "stdout",
     "output_type": "stream",
     "text": [
      "root\n",
      " |-- created_at: string (nullable = true)\n",
      " |-- favorite_count: long (nullable = true)\n",
      " |-- id_str: string (nullable = true)\n",
      " |-- is_retweet: boolean (nullable = true)\n",
      " |-- retweet_count: long (nullable = true)\n",
      " |-- source: string (nullable = true)\n",
      " |-- text: string (nullable = true)\n",
      " |-- document: array (nullable = true)\n",
      " |    |-- element: struct (containsNull = true)\n",
      " |    |    |-- annotatorType: string (nullable = true)\n",
      " |    |    |-- begin: integer (nullable = false)\n",
      " |    |    |-- end: integer (nullable = false)\n",
      " |    |    |-- result: string (nullable = true)\n",
      " |    |    |-- metadata: map (nullable = true)\n",
      " |    |    |    |-- key: string\n",
      " |    |    |    |-- value: string (valueContainsNull = true)\n",
      " |-- sentence: array (nullable = true)\n",
      " |    |-- element: struct (containsNull = true)\n",
      " |    |    |-- annotatorType: string (nullable = true)\n",
      " |    |    |-- begin: integer (nullable = false)\n",
      " |    |    |-- end: integer (nullable = false)\n",
      " |    |    |-- result: string (nullable = true)\n",
      " |    |    |-- metadata: map (nullable = true)\n",
      " |    |    |    |-- key: string\n",
      " |    |    |    |-- value: string (valueContainsNull = true)\n",
      " |-- token: array (nullable = true)\n",
      " |    |-- element: struct (containsNull = true)\n",
      " |    |    |-- annotatorType: string (nullable = true)\n",
      " |    |    |-- begin: integer (nullable = false)\n",
      " |    |    |-- end: integer (nullable = false)\n",
      " |    |    |-- result: string (nullable = true)\n",
      " |    |    |-- metadata: map (nullable = true)\n",
      " |    |    |    |-- key: string\n",
      " |    |    |    |-- value: string (valueContainsNull = true)\n",
      " |-- normalized_token: array (nullable = true)\n",
      " |    |-- element: struct (containsNull = true)\n",
      " |    |    |-- annotatorType: string (nullable = true)\n",
      " |    |    |-- begin: integer (nullable = false)\n",
      " |    |    |-- end: integer (nullable = false)\n",
      " |    |    |-- result: string (nullable = true)\n",
      " |    |    |-- metadata: map (nullable = true)\n",
      " |    |    |    |-- key: string\n",
      " |    |    |    |-- value: string (valueContainsNull = true)\n",
      " |-- lemma: array (nullable = true)\n",
      " |    |-- element: struct (containsNull = true)\n",
      " |    |    |-- annotatorType: string (nullable = true)\n",
      " |    |    |-- begin: integer (nullable = false)\n",
      " |    |    |-- end: integer (nullable = false)\n",
      " |    |    |-- result: string (nullable = true)\n",
      " |    |    |-- metadata: map (nullable = true)\n",
      " |    |    |    |-- key: string\n",
      " |    |    |    |-- value: string (valueContainsNull = true)\n",
      " |-- lemma_output: string (nullable = true)\n",
      "\n"
     ]
    }
   ],
   "source": [
    "pipeline_lemmatizer_noary = Pipeline(stages=[document_assembler, sentence_detector,tokenizer,\n",
    "                            normalizer, lemmatizer,\n",
    "                            finisher_lemmatizer_noary])\n",
    "\n",
    "model = pipeline_lemmatizer_noary.fit(df_trump)\n",
    "result_noary = model.transform(df_trump)\n",
    "result_noary.printSchema()"
   ]
  },
  {
   "cell_type": "code",
   "execution_count": 55,
   "metadata": {},
   "outputs": [
    {
     "data": {
      "text/plain": [
       "Row(document=[Row(annotatorType=u'document', begin=0, end=257, result=u'Thank you to General John Kelly, who is doing a fantastic job, and all of the Staff and others in the White House, for a job well done. Long hours and Fake reporting makes your job more difficult, but it is always great to WIN, and few have won more than us!', metadata={})])"
      ]
     },
     "execution_count": 55,
     "metadata": {},
     "output_type": "execute_result"
    }
   ],
   "source": [
    "result_noary.select('document').first()"
   ]
  },
  {
   "cell_type": "code",
   "execution_count": 56,
   "metadata": {},
   "outputs": [
    {
     "data": {
      "text/plain": [
       "Row(document=[Row(annotatorType=u'document', begin=0, end=257, result=u'Thank you to General John Kelly, who is doing a fantastic job, and all of the Staff and others in the White House, for a job well done. Long hours and Fake reporting makes your job more difficult, but it is always great to WIN, and few have won more than us!', metadata={})])"
      ]
     },
     "execution_count": 56,
     "metadata": {},
     "output_type": "execute_result"
    }
   ],
   "source": [
    "result_document = result.select('document')\n",
    "result_document.first()"
   ]
  },
  {
   "cell_type": "code",
   "execution_count": 57,
   "metadata": {},
   "outputs": [
    {
     "data": {
      "text/plain": [
       "Row(sentence=[Row(annotatorType=u'document', begin=0, end=134, result=u'Thank you to General John Kelly, who is doing a fantastic job, and all of the Staff and others in the White House, for a job well done.', metadata={}), Row(annotatorType=u'document', begin=136, end=257, result=u'Long hours and Fake reporting makes your job more difficult, but it is always great to WIN, and few have won more than us!', metadata={})])"
      ]
     },
     "execution_count": 57,
     "metadata": {},
     "output_type": "execute_result"
    }
   ],
   "source": [
    "result_noary.select('sentence').first()"
   ]
  },
  {
   "cell_type": "code",
   "execution_count": 58,
   "metadata": {},
   "outputs": [
    {
     "data": {
      "text/plain": [
       "Row(sentence=[Row(annotatorType=u'document', begin=0, end=134, result=u'Thank you to General John Kelly, who is doing a fantastic job, and all of the Staff and others in the White House, for a job well done.', metadata={}), Row(annotatorType=u'document', begin=136, end=257, result=u'Long hours and Fake reporting makes your job more difficult, but it is always great to WIN, and few have won more than us!', metadata={})])"
      ]
     },
     "execution_count": 58,
     "metadata": {},
     "output_type": "execute_result"
    }
   ],
   "source": [
    "result_sentence = result.select('sentence')\n",
    "result_sentence.first()"
   ]
  },
  {
   "cell_type": "code",
   "execution_count": 59,
   "metadata": {},
   "outputs": [
    {
     "data": {
      "text/plain": [
       "Row(token=[Row(annotatorType=u'token', begin=0, end=4, result=u'Thank', metadata={u'sentence': u'1'}), Row(annotatorType=u'token', begin=6, end=8, result=u'you', metadata={u'sentence': u'1'}), Row(annotatorType=u'token', begin=10, end=11, result=u'to', metadata={u'sentence': u'1'}), Row(annotatorType=u'token', begin=13, end=19, result=u'General', metadata={u'sentence': u'1'}), Row(annotatorType=u'token', begin=21, end=24, result=u'John', metadata={u'sentence': u'1'}), Row(annotatorType=u'token', begin=26, end=31, result=u'Kelly,', metadata={u'sentence': u'1'}), Row(annotatorType=u'token', begin=33, end=35, result=u'who', metadata={u'sentence': u'1'}), Row(annotatorType=u'token', begin=37, end=38, result=u'is', metadata={u'sentence': u'1'}), Row(annotatorType=u'token', begin=40, end=44, result=u'doing', metadata={u'sentence': u'1'}), Row(annotatorType=u'token', begin=46, end=46, result=u'a', metadata={u'sentence': u'1'}), Row(annotatorType=u'token', begin=48, end=56, result=u'fantastic', metadata={u'sentence': u'1'}), Row(annotatorType=u'token', begin=58, end=61, result=u'job,', metadata={u'sentence': u'1'}), Row(annotatorType=u'token', begin=63, end=65, result=u'and', metadata={u'sentence': u'1'}), Row(annotatorType=u'token', begin=67, end=69, result=u'all', metadata={u'sentence': u'1'}), Row(annotatorType=u'token', begin=71, end=72, result=u'of', metadata={u'sentence': u'1'}), Row(annotatorType=u'token', begin=74, end=76, result=u'the', metadata={u'sentence': u'1'}), Row(annotatorType=u'token', begin=78, end=82, result=u'Staff', metadata={u'sentence': u'1'}), Row(annotatorType=u'token', begin=84, end=86, result=u'and', metadata={u'sentence': u'1'}), Row(annotatorType=u'token', begin=88, end=93, result=u'others', metadata={u'sentence': u'1'}), Row(annotatorType=u'token', begin=95, end=96, result=u'in', metadata={u'sentence': u'1'}), Row(annotatorType=u'token', begin=98, end=100, result=u'the', metadata={u'sentence': u'1'}), Row(annotatorType=u'token', begin=102, end=106, result=u'White', metadata={u'sentence': u'1'}), Row(annotatorType=u'token', begin=108, end=113, result=u'House,', metadata={u'sentence': u'1'}), Row(annotatorType=u'token', begin=115, end=117, result=u'for', metadata={u'sentence': u'1'}), Row(annotatorType=u'token', begin=119, end=119, result=u'a', metadata={u'sentence': u'1'}), Row(annotatorType=u'token', begin=121, end=123, result=u'job', metadata={u'sentence': u'1'}), Row(annotatorType=u'token', begin=125, end=128, result=u'well', metadata={u'sentence': u'1'}), Row(annotatorType=u'token', begin=130, end=134, result=u'done.', metadata={u'sentence': u'1'}), Row(annotatorType=u'token', begin=136, end=139, result=u'Long', metadata={u'sentence': u'2'}), Row(annotatorType=u'token', begin=141, end=145, result=u'hours', metadata={u'sentence': u'2'}), Row(annotatorType=u'token', begin=147, end=149, result=u'and', metadata={u'sentence': u'2'}), Row(annotatorType=u'token', begin=151, end=154, result=u'Fake', metadata={u'sentence': u'2'}), Row(annotatorType=u'token', begin=156, end=164, result=u'reporting', metadata={u'sentence': u'2'}), Row(annotatorType=u'token', begin=166, end=170, result=u'makes', metadata={u'sentence': u'2'}), Row(annotatorType=u'token', begin=172, end=175, result=u'your', metadata={u'sentence': u'2'}), Row(annotatorType=u'token', begin=177, end=179, result=u'job', metadata={u'sentence': u'2'}), Row(annotatorType=u'token', begin=181, end=184, result=u'more', metadata={u'sentence': u'2'}), Row(annotatorType=u'token', begin=186, end=195, result=u'difficult,', metadata={u'sentence': u'2'}), Row(annotatorType=u'token', begin=197, end=199, result=u'but', metadata={u'sentence': u'2'}), Row(annotatorType=u'token', begin=201, end=202, result=u'it', metadata={u'sentence': u'2'}), Row(annotatorType=u'token', begin=204, end=205, result=u'is', metadata={u'sentence': u'2'}), Row(annotatorType=u'token', begin=207, end=212, result=u'always', metadata={u'sentence': u'2'}), Row(annotatorType=u'token', begin=214, end=218, result=u'great', metadata={u'sentence': u'2'}), Row(annotatorType=u'token', begin=220, end=221, result=u'to', metadata={u'sentence': u'2'}), Row(annotatorType=u'token', begin=223, end=226, result=u'WIN,', metadata={u'sentence': u'2'}), Row(annotatorType=u'token', begin=228, end=230, result=u'and', metadata={u'sentence': u'2'}), Row(annotatorType=u'token', begin=232, end=234, result=u'few', metadata={u'sentence': u'2'}), Row(annotatorType=u'token', begin=236, end=239, result=u'have', metadata={u'sentence': u'2'}), Row(annotatorType=u'token', begin=241, end=243, result=u'won', metadata={u'sentence': u'2'}), Row(annotatorType=u'token', begin=245, end=248, result=u'more', metadata={u'sentence': u'2'}), Row(annotatorType=u'token', begin=250, end=253, result=u'than', metadata={u'sentence': u'2'}), Row(annotatorType=u'token', begin=255, end=257, result=u'us!', metadata={u'sentence': u'2'})])"
      ]
     },
     "execution_count": 59,
     "metadata": {},
     "output_type": "execute_result"
    }
   ],
   "source": [
    "result_noary.select('token').first()"
   ]
  },
  {
   "cell_type": "code",
   "execution_count": 60,
   "metadata": {},
   "outputs": [
    {
     "data": {
      "text/plain": [
       "Row(token=[Row(annotatorType=u'token', begin=0, end=4, result=u'Thank', metadata={u'sentence': u'1'}), Row(annotatorType=u'token', begin=6, end=8, result=u'you', metadata={u'sentence': u'1'}), Row(annotatorType=u'token', begin=10, end=11, result=u'to', metadata={u'sentence': u'1'}), Row(annotatorType=u'token', begin=13, end=19, result=u'General', metadata={u'sentence': u'1'}), Row(annotatorType=u'token', begin=21, end=24, result=u'John', metadata={u'sentence': u'1'}), Row(annotatorType=u'token', begin=26, end=31, result=u'Kelly,', metadata={u'sentence': u'1'}), Row(annotatorType=u'token', begin=33, end=35, result=u'who', metadata={u'sentence': u'1'}), Row(annotatorType=u'token', begin=37, end=38, result=u'is', metadata={u'sentence': u'1'}), Row(annotatorType=u'token', begin=40, end=44, result=u'doing', metadata={u'sentence': u'1'}), Row(annotatorType=u'token', begin=46, end=46, result=u'a', metadata={u'sentence': u'1'}), Row(annotatorType=u'token', begin=48, end=56, result=u'fantastic', metadata={u'sentence': u'1'}), Row(annotatorType=u'token', begin=58, end=61, result=u'job,', metadata={u'sentence': u'1'}), Row(annotatorType=u'token', begin=63, end=65, result=u'and', metadata={u'sentence': u'1'}), Row(annotatorType=u'token', begin=67, end=69, result=u'all', metadata={u'sentence': u'1'}), Row(annotatorType=u'token', begin=71, end=72, result=u'of', metadata={u'sentence': u'1'}), Row(annotatorType=u'token', begin=74, end=76, result=u'the', metadata={u'sentence': u'1'}), Row(annotatorType=u'token', begin=78, end=82, result=u'Staff', metadata={u'sentence': u'1'}), Row(annotatorType=u'token', begin=84, end=86, result=u'and', metadata={u'sentence': u'1'}), Row(annotatorType=u'token', begin=88, end=93, result=u'others', metadata={u'sentence': u'1'}), Row(annotatorType=u'token', begin=95, end=96, result=u'in', metadata={u'sentence': u'1'}), Row(annotatorType=u'token', begin=98, end=100, result=u'the', metadata={u'sentence': u'1'}), Row(annotatorType=u'token', begin=102, end=106, result=u'White', metadata={u'sentence': u'1'}), Row(annotatorType=u'token', begin=108, end=113, result=u'House,', metadata={u'sentence': u'1'}), Row(annotatorType=u'token', begin=115, end=117, result=u'for', metadata={u'sentence': u'1'}), Row(annotatorType=u'token', begin=119, end=119, result=u'a', metadata={u'sentence': u'1'}), Row(annotatorType=u'token', begin=121, end=123, result=u'job', metadata={u'sentence': u'1'}), Row(annotatorType=u'token', begin=125, end=128, result=u'well', metadata={u'sentence': u'1'}), Row(annotatorType=u'token', begin=130, end=134, result=u'done.', metadata={u'sentence': u'1'}), Row(annotatorType=u'token', begin=136, end=139, result=u'Long', metadata={u'sentence': u'2'}), Row(annotatorType=u'token', begin=141, end=145, result=u'hours', metadata={u'sentence': u'2'}), Row(annotatorType=u'token', begin=147, end=149, result=u'and', metadata={u'sentence': u'2'}), Row(annotatorType=u'token', begin=151, end=154, result=u'Fake', metadata={u'sentence': u'2'}), Row(annotatorType=u'token', begin=156, end=164, result=u'reporting', metadata={u'sentence': u'2'}), Row(annotatorType=u'token', begin=166, end=170, result=u'makes', metadata={u'sentence': u'2'}), Row(annotatorType=u'token', begin=172, end=175, result=u'your', metadata={u'sentence': u'2'}), Row(annotatorType=u'token', begin=177, end=179, result=u'job', metadata={u'sentence': u'2'}), Row(annotatorType=u'token', begin=181, end=184, result=u'more', metadata={u'sentence': u'2'}), Row(annotatorType=u'token', begin=186, end=195, result=u'difficult,', metadata={u'sentence': u'2'}), Row(annotatorType=u'token', begin=197, end=199, result=u'but', metadata={u'sentence': u'2'}), Row(annotatorType=u'token', begin=201, end=202, result=u'it', metadata={u'sentence': u'2'}), Row(annotatorType=u'token', begin=204, end=205, result=u'is', metadata={u'sentence': u'2'}), Row(annotatorType=u'token', begin=207, end=212, result=u'always', metadata={u'sentence': u'2'}), Row(annotatorType=u'token', begin=214, end=218, result=u'great', metadata={u'sentence': u'2'}), Row(annotatorType=u'token', begin=220, end=221, result=u'to', metadata={u'sentence': u'2'}), Row(annotatorType=u'token', begin=223, end=226, result=u'WIN,', metadata={u'sentence': u'2'}), Row(annotatorType=u'token', begin=228, end=230, result=u'and', metadata={u'sentence': u'2'}), Row(annotatorType=u'token', begin=232, end=234, result=u'few', metadata={u'sentence': u'2'}), Row(annotatorType=u'token', begin=236, end=239, result=u'have', metadata={u'sentence': u'2'}), Row(annotatorType=u'token', begin=241, end=243, result=u'won', metadata={u'sentence': u'2'}), Row(annotatorType=u'token', begin=245, end=248, result=u'more', metadata={u'sentence': u'2'}), Row(annotatorType=u'token', begin=250, end=253, result=u'than', metadata={u'sentence': u'2'}), Row(annotatorType=u'token', begin=255, end=257, result=u'us!', metadata={u'sentence': u'2'})])"
      ]
     },
     "execution_count": 60,
     "metadata": {},
     "output_type": "execute_result"
    }
   ],
   "source": [
    "result_token = result.select('token')\n",
    "result_token.first()"
   ]
  },
  {
   "cell_type": "code",
   "execution_count": 61,
   "metadata": {},
   "outputs": [
    {
     "data": {
      "text/plain": [
       "Row(lemma_output=u'thank@you@to@general@john@kelly@who@be@do@a@fantastic@job@and@all@of@the@staff@and@other@in@the@white@house@for@a@job@well@do@long@hour@and@fake@report@make@you@job@more@difficult@but@it@be@always@great@to@win@and@few@have@win@more@than@we')"
      ]
     },
     "execution_count": 61,
     "metadata": {},
     "output_type": "execute_result"
    }
   ],
   "source": [
    "result_noary.select('lemma_output').first()"
   ]
  },
  {
   "cell_type": "code",
   "execution_count": 62,
   "metadata": {},
   "outputs": [
    {
     "data": {
      "text/plain": [
       "Row(lemma_output=[u'thank', u'you', u'to', u'general', u'john', u'kelly', u'who', u'be', u'do', u'a', u'fantastic', u'job', u'and', u'all', u'of', u'the', u'staff', u'and', u'other', u'in', u'the', u'white', u'house', u'for', u'a', u'job', u'well', u'do', u'long', u'hour', u'and', u'fake', u'report', u'make', u'you', u'job', u'more', u'difficult', u'but', u'it', u'be', u'always', u'great', u'to', u'win', u'and', u'few', u'have', u'win', u'more', u'than', u'we'])"
      ]
     },
     "execution_count": 62,
     "metadata": {},
     "output_type": "execute_result"
    }
   ],
   "source": [
    "result_lemma_output = result.select('lemma_output')\n",
    "result_lemma_output.first()"
   ]
  },
  {
   "cell_type": "code",
   "execution_count": null,
   "metadata": {},
   "outputs": [],
   "source": []
  }
 ],
 "metadata": {
  "kernelspec": {
   "display_name": "Python 2",
   "language": "python",
   "name": "python2"
  },
  "language_info": {
   "codemirror_mode": {
    "name": "ipython",
    "version": 2
   },
   "file_extension": ".py",
   "mimetype": "text/x-python",
   "name": "python",
   "nbconvert_exporter": "python",
   "pygments_lexer": "ipython2",
   "version": "2.7.12"
  }
 },
 "nbformat": 4,
 "nbformat_minor": 2
}
