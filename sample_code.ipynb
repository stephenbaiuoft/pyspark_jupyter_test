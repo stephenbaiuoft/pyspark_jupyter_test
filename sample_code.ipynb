{
 "cells": [
  {
   "cell_type": "code",
   "execution_count": 1,
   "metadata": {},
   "outputs": [],
   "source": [
    "from pyspark.sql import SparkSession\n",
    "from pyspark.sql import *\n",
    "from pyspark.ml import Pipeline"
   ]
  },
  {
   "cell_type": "code",
   "execution_count": 2,
   "metadata": {},
   "outputs": [],
   "source": [
    "# instantiate a spark context object\n",
    "appname= \"sample_code\"\n",
    "master=\"local\"\n",
    "\n",
    "# Create Spark Session\n",
    "spark = SparkSession.builder.appName(appname).getOrCreate()"
   ]
  },
  {
   "cell_type": "code",
   "execution_count": 3,
   "metadata": {},
   "outputs": [],
   "source": [
    "# Region to test composite key set\n",
    "rdd = sc.parallelize([(1, '200','aaa'),(2,'100','aaa'),(1,'300','aaa'),\n",
    "                      (2, '2000','bbb'),(1,'3000','bbb'),(2,'1000','ccc')]\n",
    "                    )"
   ]
  },
  {
   "cell_type": "code",
   "execution_count": 7,
   "metadata": {},
   "outputs": [
    {
     "data": {
      "text/plain": [
       "[(1, (1, '200', 'aaa')),\n",
       " (2, (2, '100', 'aaa')),\n",
       " (1, (1, '300', 'aaa')),\n",
       " (2, (2, '2000', 'bbb')),\n",
       " (1, (1, '3000', 'bbb')),\n",
       " (2, (2, '1000', 'ccc'))]"
      ]
     },
     "execution_count": 7,
     "metadata": {},
     "output_type": "execute_result"
    }
   ],
   "source": [
    "kr = rdd.keyBy(lambda x:x[0])\n",
    "kr.collect()"
   ]
  },
  {
   "cell_type": "code",
   "execution_count": 147,
   "metadata": {},
   "outputs": [],
   "source": [
    "# Region for getting minimum for each key\n",
    "# Region for getting minimum for each key\n",
    "# Region for getting minimum for each key\n",
    "# Region for getting minimum for each key\n",
    "\n",
    "# Note on reduceByKey:  input and output HAS TO BE OF SAME TYPE!!!!\n",
    "# Implementation of Minimize\n",
    "kr1 = kr.reduceByKey(lambda x, y: x if x[1] < y[1] else y)"
   ]
  },
  {
   "cell_type": "code",
   "execution_count": 148,
   "metadata": {},
   "outputs": [
    {
     "data": {
      "text/plain": [
       "[(2, '100'), (1, '200')]"
      ]
     },
     "execution_count": 148,
     "metadata": {},
     "output_type": "execute_result"
    }
   ],
   "source": [
    "kr2 = kr1.mapValues(lambda x: x[1])\n",
    "kr2.collect()\n"
   ]
  },
  {
   "cell_type": "code",
   "execution_count": 149,
   "metadata": {},
   "outputs": [
    {
     "data": {
      "text/plain": [
       "[(1, ((1, '200', 'aaa'), '200')),\n",
       " (1, ((1, '300', 'aaa'), '200')),\n",
       " (1, ((1, '3000', 'bbb'), '200')),\n",
       " (2, ((2, '100', 'aaa'), '100')),\n",
       " (2, ((2, '2000', 'bbb'), '100')),\n",
       " (2, ((2, '1000', 'ccc'), '100'))]"
      ]
     },
     "execution_count": 149,
     "metadata": {},
     "output_type": "execute_result"
    }
   ],
   "source": [
    "kr.join(kr2).collect()"
   ]
  },
  {
   "cell_type": "code",
   "execution_count": null,
   "metadata": {},
   "outputs": [],
   "source": []
  },
  {
   "cell_type": "code",
   "execution_count": 6,
   "metadata": {},
   "outputs": [
    {
     "data": {
      "text/plain": [
       "[((1, '200'), (1, '200', 'aaa')),\n",
       " ((1, '300'), (1, '300', 'aaa')),\n",
       " ((1, '3000'), (1, '3000', 'bbb')),\n",
       " ((2, '100'), (2, '100', 'aaa')),\n",
       " ((2, '1000'), (2, '1000', 'ccc')),\n",
       " ((2, '2000'), (2, '2000', 'bbb'))]"
      ]
     },
     "execution_count": 6,
     "metadata": {},
     "output_type": "execute_result"
    }
   ],
   "source": [
    "#Region for sorting key pair\n",
    "#Region for sorting key pair\n",
    "#Region for sorting key pair\n",
    "kr.sortByKey(lambda x, y: x[1] if x[1]< y[1] else y[1] ).collect()"
   ]
  }
 ],
 "metadata": {
  "kernelspec": {
   "display_name": "Python 2",
   "language": "python",
   "name": "python2"
  },
  "language_info": {
   "codemirror_mode": {
    "name": "ipython",
    "version": 2
   },
   "file_extension": ".py",
   "mimetype": "text/x-python",
   "name": "python",
   "nbconvert_exporter": "python",
   "pygments_lexer": "ipython2",
   "version": "2.7.12"
  }
 },
 "nbformat": 4,
 "nbformat_minor": 2
}
