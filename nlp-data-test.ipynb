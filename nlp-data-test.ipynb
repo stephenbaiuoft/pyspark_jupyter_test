{
 "cells": [
  {
   "cell_type": "code",
   "execution_count": 1,
   "metadata": {},
   "outputs": [],
   "source": [
    "import time\n",
    "import sys\n",
    "sys.path.append('../../')\n",
    "\n",
    "from pyspark.ml import Pipeline, PipelineModel\n",
    "from sparknlp.annotator import *\n",
    "from sparknlp.base import DocumentAssembler, Finisher\n",
    "from pyspark.sql import Row\n"
   ]
  },
  {
   "cell_type": "code",
   "execution_count": 2,
   "metadata": {},
   "outputs": [],
   "source": [
    "# default sc by Pyspark\n",
    "sqlContext = SQLContext(sc)"
   ]
  },
  {
   "cell_type": "code",
   "execution_count": 23,
   "metadata": {},
   "outputs": [],
   "source": [
    "# manually create data\n",
    "df = sc.parallelize([ \\\n",
    "    Row(id=1, text=\"this d\\nand wonder what happends???d@\\nnewline\"), \\\n",
    "    Row(id=2, text=\"sadfdsf\\n*d*\"), \\\n",
    "    Row(id=5, text=\"asdfadsfasdf\")]).toDF()\n"
   ]
  },
  {
   "cell_type": "code",
   "execution_count": 24,
   "metadata": {},
   "outputs": [
    {
     "name": "stdout",
     "output_type": "stream",
     "text": [
      "root\n",
      " |-- id: long (nullable = true)\n",
      " |-- text: string (nullable = true)\n",
      "\n"
     ]
    }
   ],
   "source": [
    "df.printSchema()"
   ]
  },
  {
   "cell_type": "code",
   "execution_count": 25,
   "metadata": {},
   "outputs": [],
   "source": [
    "# any \n",
    "def process_task(*args):\n",
    "    pipeline = Pipeline(stages=[args])\n",
    "    model = pipeline_sentiment.fit(data)\n",
    "    result = model.transform(data)\n",
    "    result.printSchema()\n",
    "    result.show()\n",
    "\n",
    "document_assembler = DocumentAssembler() \\\n",
    "    .setInputCol(\"text\")\\\n",
    "    .setOutputCol(\"document\")"
   ]
  },
  {
   "cell_type": "code",
   "execution_count": 26,
   "metadata": {},
   "outputs": [],
   "source": [
    "# any \n",
    "def process_task(data, *args):\n",
    "    pipeline = Pipeline(stages=args)\n",
    "    model = pipeline.fit(data)\n",
    "    result = model.transform(data)\n",
    "    result.printSchema()\n",
    "    return result"
   ]
  },
  {
   "cell_type": "code",
   "execution_count": 27,
   "metadata": {},
   "outputs": [],
   "source": [
    "document_assembler = DocumentAssembler() \\\n",
    "    .setInputCol(\"text\")\\\n",
    "    .setOutputCol(\"document\")\n",
    "\n",
    "finisher_text = Finisher() \\\n",
    "    .setInputCols([\"document\"]) \\\n",
    "    .setOutputCols([\"document_output\"])    \n",
    "\n",
    "sentence_detector = SentenceDetectorModel() \\\n",
    "    .setInputCols([\"document\"]) \\\n",
    "    .setCustomBounds([\"\\n\",\"\\?\",\"\\*\",\"\\@\"])\\\n",
    "    .setOutputCol(\"sentence\")\n",
    "    \n",
    "    \n",
    "finisher_sentence = Finisher() \\\n",
    "    .setInputCols([\"sentence\"]) \\\n",
    "    .setOutputCols([\"sentence_output\"])"
   ]
  },
  {
   "cell_type": "code",
   "execution_count": 28,
   "metadata": {},
   "outputs": [
    {
     "name": "stdout",
     "output_type": "stream",
     "text": [
      "root\n",
      " |-- id: long (nullable = true)\n",
      " |-- text: string (nullable = true)\n",
      " |-- sentence_output: string (nullable = true)\n",
      "\n"
     ]
    }
   ],
   "source": [
    "result = process_task(df, document_assembler,sentence_detector,finisher_sentence)"
   ]
  },
  {
   "cell_type": "code",
   "execution_count": 29,
   "metadata": {},
   "outputs": [
    {
     "name": "stdout",
     "output_type": "stream",
     "text": [
      "Row(sentence_output=u'this d@and wonder what happends@d@newline')\n",
      "Row(sentence_output=u'sadfdsf@d')\n",
      "Row(sentence_output=u'asdfadsfasdf')\n"
     ]
    }
   ],
   "source": [
    "#result.select(\"sentence_output\").show()\n",
    "\n",
    "result.createOrReplaceTempView(\"result\")\n",
    "tmp = sqlContext.sql(\"select sentence_output from result limit 3\")\n",
    "# collect is where you can access the data by printing or do whatever you want\n",
    "for i in tmp.collect():\n",
    "    print i"
   ]
  },
  {
   "cell_type": "code",
   "execution_count": null,
   "metadata": {},
   "outputs": [],
   "source": []
  }
 ],
 "metadata": {
  "kernelspec": {
   "display_name": "Python 2",
   "language": "python",
   "name": "python2"
  },
  "language_info": {
   "codemirror_mode": {
    "name": "ipython",
    "version": 2
   },
   "file_extension": ".py",
   "mimetype": "text/x-python",
   "name": "python",
   "nbconvert_exporter": "python",
   "pygments_lexer": "ipython2",
   "version": "2.7.12"
  }
 },
 "nbformat": 4,
 "nbformat_minor": 2
}
